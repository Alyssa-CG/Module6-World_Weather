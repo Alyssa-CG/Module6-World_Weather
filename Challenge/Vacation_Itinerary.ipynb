{
 "cells": [
  {
   "cell_type": "code",
   "execution_count": 1,
   "metadata": {},
   "outputs": [],
   "source": [
    "# Import the dependencies.\n",
    "import pandas as pd\n",
    "import numpy as np\n",
    "from citipy import citipy\n",
    "import gmaps\n",
    "import requests\n",
    "from datetime import datetime\n",
    "import time\n",
    "# Import the API key.\n",
    "from config import weather_api_key\n",
    "from config import g_key\n",
    "\n",
    "gmaps.configure(api_key=g_key)"
   ]
  },
  {
   "cell_type": "code",
   "execution_count": 2,
   "metadata": {},
   "outputs": [
    {
     "data": {
      "text/html": [
       "<div>\n",
       "<style scoped>\n",
       "    .dataframe tbody tr th:only-of-type {\n",
       "        vertical-align: middle;\n",
       "    }\n",
       "\n",
       "    .dataframe tbody tr th {\n",
       "        vertical-align: top;\n",
       "    }\n",
       "\n",
       "    .dataframe thead th {\n",
       "        text-align: right;\n",
       "    }\n",
       "</style>\n",
       "<table border=\"1\" class=\"dataframe\">\n",
       "  <thead>\n",
       "    <tr style=\"text-align: right;\">\n",
       "      <th></th>\n",
       "      <th>City</th>\n",
       "      <th>Country</th>\n",
       "      <th>Max Temp</th>\n",
       "      <th>Current Description</th>\n",
       "      <th>Lat</th>\n",
       "      <th>Lng</th>\n",
       "      <th>Hotel Name</th>\n",
       "    </tr>\n",
       "  </thead>\n",
       "  <tbody>\n",
       "    <tr>\n",
       "      <th>10</th>\n",
       "      <td>Hithadhoo</td>\n",
       "      <td>MV</td>\n",
       "      <td>83.91</td>\n",
       "      <td>light rain</td>\n",
       "      <td>-0.60</td>\n",
       "      <td>73.08</td>\n",
       "      <td>Scoop Guest House</td>\n",
       "    </tr>\n",
       "    <tr>\n",
       "      <th>34</th>\n",
       "      <td>Albany</td>\n",
       "      <td>US</td>\n",
       "      <td>84.00</td>\n",
       "      <td>light rain</td>\n",
       "      <td>42.60</td>\n",
       "      <td>-73.97</td>\n",
       "      <td>NaN</td>\n",
       "    </tr>\n",
       "    <tr>\n",
       "      <th>50</th>\n",
       "      <td>Alappuzha</td>\n",
       "      <td>IN</td>\n",
       "      <td>82.98</td>\n",
       "      <td>light rain</td>\n",
       "      <td>9.49</td>\n",
       "      <td>76.33</td>\n",
       "      <td>Ramada by Wyndham Alleppey</td>\n",
       "    </tr>\n",
       "    <tr>\n",
       "      <th>60</th>\n",
       "      <td>Nautla</td>\n",
       "      <td>MX</td>\n",
       "      <td>84.83</td>\n",
       "      <td>moderate rain</td>\n",
       "      <td>20.22</td>\n",
       "      <td>-96.78</td>\n",
       "      <td>Casa Blanca</td>\n",
       "    </tr>\n",
       "    <tr>\n",
       "      <th>69</th>\n",
       "      <td>Mahina</td>\n",
       "      <td>PF</td>\n",
       "      <td>77.00</td>\n",
       "      <td>light rain</td>\n",
       "      <td>-17.51</td>\n",
       "      <td>-149.49</td>\n",
       "      <td>Guest Beach Bungalow Tahiti</td>\n",
       "    </tr>\n",
       "  </tbody>\n",
       "</table>\n",
       "</div>"
      ],
      "text/plain": [
       "         City Country  Max Temp Current Description    Lat     Lng  \\\n",
       "10  Hithadhoo      MV     83.91          light rain  -0.60   73.08   \n",
       "34     Albany      US     84.00          light rain  42.60  -73.97   \n",
       "50  Alappuzha      IN     82.98          light rain   9.49   76.33   \n",
       "60     Nautla      MX     84.83       moderate rain  20.22  -96.78   \n",
       "69     Mahina      PF     77.00          light rain -17.51 -149.49   \n",
       "\n",
       "                     Hotel Name  \n",
       "10            Scoop Guest House  \n",
       "34                          NaN  \n",
       "50   Ramada by Wyndham Alleppey  \n",
       "60                  Casa Blanca  \n",
       "69  Guest Beach Bungalow Tahiti  "
      ]
     },
     "execution_count": 2,
     "metadata": {},
     "output_type": "execute_result"
    }
   ],
   "source": [
    "# 3) Import the WeatherPy_vacation.csv file as a new DataFrame.\n",
    "\n",
    "vacation_df = pd.read_csv(\"data/WeatherPy_vacation.csv\", index_col=0)\n",
    "vacation_df.head()"
   ]
  },
  {
   "cell_type": "code",
   "execution_count": null,
   "metadata": {},
   "outputs": [],
   "source": []
  },
  {
   "cell_type": "code",
   "execution_count": 3,
   "metadata": {},
   "outputs": [
    {
     "data": {
      "text/html": [
       "<div>\n",
       "<style scoped>\n",
       "    .dataframe tbody tr th:only-of-type {\n",
       "        vertical-align: middle;\n",
       "    }\n",
       "\n",
       "    .dataframe tbody tr th {\n",
       "        vertical-align: top;\n",
       "    }\n",
       "\n",
       "    .dataframe thead th {\n",
       "        text-align: right;\n",
       "    }\n",
       "</style>\n",
       "<table border=\"1\" class=\"dataframe\">\n",
       "  <thead>\n",
       "    <tr style=\"text-align: right;\">\n",
       "      <th></th>\n",
       "      <th>City</th>\n",
       "      <th>Country</th>\n",
       "      <th>Max Temp</th>\n",
       "      <th>Current Description</th>\n",
       "      <th>Lat</th>\n",
       "      <th>Lng</th>\n",
       "      <th>Hotel Name</th>\n",
       "    </tr>\n",
       "  </thead>\n",
       "  <tbody>\n",
       "    <tr>\n",
       "      <th>384</th>\n",
       "      <td>Lahan</td>\n",
       "      <td>NP</td>\n",
       "      <td>79.74</td>\n",
       "      <td>light rain</td>\n",
       "      <td>26.73</td>\n",
       "      <td>86.5</td>\n",
       "      <td>Hotel Durbar Pvt. Ltd.</td>\n",
       "    </tr>\n",
       "  </tbody>\n",
       "</table>\n",
       "</div>"
      ],
      "text/plain": [
       "      City Country  Max Temp Current Description    Lat   Lng  \\\n",
       "384  Lahan      NP     79.74          light rain  26.73  86.5   \n",
       "\n",
       "                 Hotel Name  \n",
       "384  Hotel Durbar Pvt. Ltd.  "
      ]
     },
     "execution_count": 3,
     "metadata": {},
     "output_type": "execute_result"
    }
   ],
   "source": [
    "# 4) From the vacation search map, choose at least four cities in close proximity on your map \n",
    "# that are on the same continent that a customer might travel to, and then create a directions layer map.\n",
    "\n",
    "# Picking: Lahan, NP. Mawlaik, MM. Tuy Hoa, VN. Kampong Chhnang, KH.\n",
    "\n",
    "lahan_df=vacation_df.loc[(vacation_df[\"City\"]==\"Lahan\") & (vacation_df[\"Country\"]==\"NP\")]\n",
    "lahan_df"
   ]
  },
  {
   "cell_type": "code",
   "execution_count": 4,
   "metadata": {},
   "outputs": [
    {
     "data": {
      "text/html": [
       "<div>\n",
       "<style scoped>\n",
       "    .dataframe tbody tr th:only-of-type {\n",
       "        vertical-align: middle;\n",
       "    }\n",
       "\n",
       "    .dataframe tbody tr th {\n",
       "        vertical-align: top;\n",
       "    }\n",
       "\n",
       "    .dataframe thead th {\n",
       "        text-align: right;\n",
       "    }\n",
       "</style>\n",
       "<table border=\"1\" class=\"dataframe\">\n",
       "  <thead>\n",
       "    <tr style=\"text-align: right;\">\n",
       "      <th></th>\n",
       "      <th>City</th>\n",
       "      <th>Country</th>\n",
       "      <th>Max Temp</th>\n",
       "      <th>Current Description</th>\n",
       "      <th>Lat</th>\n",
       "      <th>Lng</th>\n",
       "      <th>Hotel Name</th>\n",
       "    </tr>\n",
       "  </thead>\n",
       "  <tbody>\n",
       "    <tr>\n",
       "      <th>450</th>\n",
       "      <td>Mawlaik</td>\n",
       "      <td>MM</td>\n",
       "      <td>76.59</td>\n",
       "      <td>light rain</td>\n",
       "      <td>23.63</td>\n",
       "      <td>94.42</td>\n",
       "      <td>AKZ Guest House</td>\n",
       "    </tr>\n",
       "  </tbody>\n",
       "</table>\n",
       "</div>"
      ],
      "text/plain": [
       "        City Country  Max Temp Current Description    Lat    Lng  \\\n",
       "450  Mawlaik      MM     76.59          light rain  23.63  94.42   \n",
       "\n",
       "          Hotel Name  \n",
       "450  AKZ Guest House  "
      ]
     },
     "execution_count": 4,
     "metadata": {},
     "output_type": "execute_result"
    }
   ],
   "source": [
    "mawlaik_df=vacation_df.loc[(vacation_df[\"City\"]==\"Mawlaik\") & (vacation_df[\"Country\"]==\"MM\")]\n",
    "mawlaik_df"
   ]
  },
  {
   "cell_type": "code",
   "execution_count": 5,
   "metadata": {},
   "outputs": [
    {
     "data": {
      "text/html": [
       "<div>\n",
       "<style scoped>\n",
       "    .dataframe tbody tr th:only-of-type {\n",
       "        vertical-align: middle;\n",
       "    }\n",
       "\n",
       "    .dataframe tbody tr th {\n",
       "        vertical-align: top;\n",
       "    }\n",
       "\n",
       "    .dataframe thead th {\n",
       "        text-align: right;\n",
       "    }\n",
       "</style>\n",
       "<table border=\"1\" class=\"dataframe\">\n",
       "  <thead>\n",
       "    <tr style=\"text-align: right;\">\n",
       "      <th></th>\n",
       "      <th>City</th>\n",
       "      <th>Country</th>\n",
       "      <th>Max Temp</th>\n",
       "      <th>Current Description</th>\n",
       "      <th>Lat</th>\n",
       "      <th>Lng</th>\n",
       "      <th>Hotel Name</th>\n",
       "    </tr>\n",
       "  </thead>\n",
       "  <tbody>\n",
       "    <tr>\n",
       "      <th>386</th>\n",
       "      <td>Tuy Hoa</td>\n",
       "      <td>VN</td>\n",
       "      <td>79.77</td>\n",
       "      <td>light rain</td>\n",
       "      <td>13.08</td>\n",
       "      <td>109.3</td>\n",
       "      <td>CenDeluxe Hotel Tuy Hoa</td>\n",
       "    </tr>\n",
       "  </tbody>\n",
       "</table>\n",
       "</div>"
      ],
      "text/plain": [
       "        City Country  Max Temp Current Description    Lat    Lng  \\\n",
       "386  Tuy Hoa      VN     79.77          light rain  13.08  109.3   \n",
       "\n",
       "                  Hotel Name  \n",
       "386  CenDeluxe Hotel Tuy Hoa  "
      ]
     },
     "execution_count": 5,
     "metadata": {},
     "output_type": "execute_result"
    }
   ],
   "source": [
    "tuy_hoa_df=vacation_df.loc[(vacation_df[\"City\"]==\"Tuy Hoa\") & (vacation_df[\"Country\"]==\"VN\")]\n",
    "tuy_hoa_df"
   ]
  },
  {
   "cell_type": "code",
   "execution_count": 6,
   "metadata": {},
   "outputs": [
    {
     "data": {
      "text/html": [
       "<div>\n",
       "<style scoped>\n",
       "    .dataframe tbody tr th:only-of-type {\n",
       "        vertical-align: middle;\n",
       "    }\n",
       "\n",
       "    .dataframe tbody tr th {\n",
       "        vertical-align: top;\n",
       "    }\n",
       "\n",
       "    .dataframe thead th {\n",
       "        text-align: right;\n",
       "    }\n",
       "</style>\n",
       "<table border=\"1\" class=\"dataframe\">\n",
       "  <thead>\n",
       "    <tr style=\"text-align: right;\">\n",
       "      <th></th>\n",
       "      <th>City</th>\n",
       "      <th>Country</th>\n",
       "      <th>Max Temp</th>\n",
       "      <th>Current Description</th>\n",
       "      <th>Lat</th>\n",
       "      <th>Lng</th>\n",
       "      <th>Hotel Name</th>\n",
       "    </tr>\n",
       "  </thead>\n",
       "  <tbody>\n",
       "    <tr>\n",
       "      <th>108</th>\n",
       "      <td>Kampong Chhnang</td>\n",
       "      <td>KH</td>\n",
       "      <td>79.7</td>\n",
       "      <td>light rain</td>\n",
       "      <td>12.17</td>\n",
       "      <td>104.55</td>\n",
       "      <td>រមណីយដ្ឋាន ទឹកធ្លាក់ស្រែអំពិល</td>\n",
       "    </tr>\n",
       "  </tbody>\n",
       "</table>\n",
       "</div>"
      ],
      "text/plain": [
       "                City Country  Max Temp Current Description    Lat     Lng  \\\n",
       "108  Kampong Chhnang      KH      79.7          light rain  12.17  104.55   \n",
       "\n",
       "                        Hotel Name  \n",
       "108  រមណីយដ្ឋាន ទឹកធ្លាក់ស្រែអំពិល  "
      ]
     },
     "execution_count": 6,
     "metadata": {},
     "output_type": "execute_result"
    }
   ],
   "source": [
    "kampong_chhnang_df=vacation_df.loc[(vacation_df[\"City\"]==\"Kampong Chhnang\") & (vacation_df[\"Country\"]==\"KH\")]\n",
    "kampong_chhnang_df"
   ]
  },
  {
   "cell_type": "code",
   "execution_count": 7,
   "metadata": {},
   "outputs": [
    {
     "data": {
      "text/plain": [
       "(26.73, 86.5)"
      ]
     },
     "execution_count": 7,
     "metadata": {},
     "output_type": "execute_result"
    }
   ],
   "source": [
    "# Get latitude longitude pairs\n",
    "\n",
    "lahan_lat=lahan_df.iloc[0][\"Lat\"]\n",
    "lahan_lng=lahan_df.iloc[0][\"Lng\"]\n",
    "\n",
    "lahan=(lahan_lat,lahan_lng)\n",
    "lahan"
   ]
  },
  {
   "cell_type": "code",
   "execution_count": 8,
   "metadata": {},
   "outputs": [
    {
     "name": "stdout",
     "output_type": "stream",
     "text": [
      "<class 'tuple'>\n",
      "<class 'tuple'>\n",
      "<class 'tuple'>\n",
      "<class 'tuple'>\n"
     ]
    }
   ],
   "source": [
    "mawlaik_lat=mawlaik_df.iloc[0][\"Lat\"]\n",
    "mawlaik_lng=mawlaik_df.iloc[0][\"Lng\"]\n",
    "\n",
    "mawlaik=(mawlaik_lat,mawlaik_lng)\n",
    "\n",
    "\n",
    "tuy_hoa_lat=tuy_hoa_df.iloc[0][\"Lat\"]\n",
    "tuy_hoa_lng=tuy_hoa_df.iloc[0][\"Lng\"]\n",
    "\n",
    "tuy_hoa=(tuy_hoa_lat,tuy_hoa_lng)\n",
    "\n",
    "\n",
    "kampong_chhnang_lat=kampong_chhnang_df.iloc[0][\"Lat\"]\n",
    "kampong_chhnang_lng=kampong_chhnang_df.iloc[0][\"Lng\"]\n",
    "\n",
    "kampong_chhnang=(kampong_chhnang_lat,kampong_chhnang_lng)\n",
    "\n",
    "print(type(lahan))\n",
    "print(type(mawlaik))\n",
    "print(type(tuy_hoa))\n",
    "print(type(kampong_chhnang))"
   ]
  },
  {
   "cell_type": "code",
   "execution_count": 9,
   "metadata": {},
   "outputs": [
    {
     "data": {
      "application/vnd.jupyter.widget-view+json": {
       "model_id": "87d5ac373aab4cdcb90164c3a6ce31d4",
       "version_major": 2,
       "version_minor": 0
      },
      "text/plain": [
       "Figure(layout=FigureLayout(height='420px'))"
      ]
     },
     "metadata": {},
     "output_type": "display_data"
    }
   ],
   "source": [
    "fig = gmaps.figure(center=(20,100),zoom_level=4.3)\n",
    "\n",
    "lahan2kampong_chhnang_via_mawlaik_and_tuy_hoa = gmaps.directions_layer(lahan, kampong_chhnang, waypoints=[mawlaik,tuy_hoa], travel_mode=\"DRIVING\")\n",
    "\n",
    "fig.add_layer(lahan2kampong_chhnang_via_mawlaik_and_tuy_hoa)\n",
    "\n",
    "fig"
   ]
  },
  {
   "cell_type": "code",
   "execution_count": 10,
   "metadata": {},
   "outputs": [
    {
     "data": {
      "text/html": [
       "<div>\n",
       "<style scoped>\n",
       "    .dataframe tbody tr th:only-of-type {\n",
       "        vertical-align: middle;\n",
       "    }\n",
       "\n",
       "    .dataframe tbody tr th {\n",
       "        vertical-align: top;\n",
       "    }\n",
       "\n",
       "    .dataframe thead th {\n",
       "        text-align: right;\n",
       "    }\n",
       "</style>\n",
       "<table border=\"1\" class=\"dataframe\">\n",
       "  <thead>\n",
       "    <tr style=\"text-align: right;\">\n",
       "      <th></th>\n",
       "      <th>City</th>\n",
       "      <th>Country</th>\n",
       "      <th>Max Temp</th>\n",
       "      <th>Current Description</th>\n",
       "      <th>Lat</th>\n",
       "      <th>Lng</th>\n",
       "      <th>Hotel Name</th>\n",
       "    </tr>\n",
       "  </thead>\n",
       "  <tbody>\n",
       "    <tr>\n",
       "      <th>384</th>\n",
       "      <td>Lahan</td>\n",
       "      <td>NP</td>\n",
       "      <td>79.74</td>\n",
       "      <td>light rain</td>\n",
       "      <td>26.73</td>\n",
       "      <td>86.50</td>\n",
       "      <td>Hotel Durbar Pvt. Ltd.</td>\n",
       "    </tr>\n",
       "    <tr>\n",
       "      <th>450</th>\n",
       "      <td>Mawlaik</td>\n",
       "      <td>MM</td>\n",
       "      <td>76.59</td>\n",
       "      <td>light rain</td>\n",
       "      <td>23.63</td>\n",
       "      <td>94.42</td>\n",
       "      <td>AKZ Guest House</td>\n",
       "    </tr>\n",
       "    <tr>\n",
       "      <th>386</th>\n",
       "      <td>Tuy Hoa</td>\n",
       "      <td>VN</td>\n",
       "      <td>79.77</td>\n",
       "      <td>light rain</td>\n",
       "      <td>13.08</td>\n",
       "      <td>109.30</td>\n",
       "      <td>CenDeluxe Hotel Tuy Hoa</td>\n",
       "    </tr>\n",
       "    <tr>\n",
       "      <th>108</th>\n",
       "      <td>Kampong Chhnang</td>\n",
       "      <td>KH</td>\n",
       "      <td>79.70</td>\n",
       "      <td>light rain</td>\n",
       "      <td>12.17</td>\n",
       "      <td>104.55</td>\n",
       "      <td>រមណីយដ្ឋាន ទឹកធ្លាក់ស្រែអំពិល</td>\n",
       "    </tr>\n",
       "  </tbody>\n",
       "</table>\n",
       "</div>"
      ],
      "text/plain": [
       "                City Country  Max Temp Current Description    Lat     Lng  \\\n",
       "384            Lahan      NP     79.74          light rain  26.73   86.50   \n",
       "450          Mawlaik      MM     76.59          light rain  23.63   94.42   \n",
       "386          Tuy Hoa      VN     79.77          light rain  13.08  109.30   \n",
       "108  Kampong Chhnang      KH     79.70          light rain  12.17  104.55   \n",
       "\n",
       "                        Hotel Name  \n",
       "384         Hotel Durbar Pvt. Ltd.  \n",
       "450                AKZ Guest House  \n",
       "386        CenDeluxe Hotel Tuy Hoa  \n",
       "108  រមណីយដ្ឋាន ទឹកធ្លាក់ស្រែអំពិល  "
      ]
     },
     "execution_count": 10,
     "metadata": {},
     "output_type": "execute_result"
    }
   ],
   "source": [
    "# 6) Save previous fig.\n",
    "# 7) Create a marker layer map for the four cities.\n",
    "\n",
    "# Create df of the four cities:\n",
    "\n",
    "preferred_cities = [lahan_df, mawlaik_df, tuy_hoa_df, kampong_chhnang_df]\n",
    "\n",
    "itinerary_df=pd.concat(preferred_cities)\n",
    "\n",
    "itinerary_df"
   ]
  },
  {
   "cell_type": "code",
   "execution_count": 11,
   "metadata": {},
   "outputs": [
    {
     "data": {
      "application/vnd.jupyter.widget-view+json": {
       "model_id": "4242112d871344fcbf4fe0a87093b6be",
       "version_major": 2,
       "version_minor": 0
      },
      "text/plain": [
       "Figure(layout=FigureLayout(height='420px'))"
      ]
     },
     "metadata": {},
     "output_type": "display_data"
    }
   ],
   "source": [
    "\n",
    "\n",
    "info_box_template = \"\"\"\n",
    "<dl>\n",
    "<dt>Hotel Name</dt><dd>{Hotel Name}</dd>\n",
    "<dt>City</dt><dd>{City}</dd>\n",
    "<dt>Country</dt><dd>{Country}</dd>\n",
    "<dt>Current Weather</dt><dd>{Current Description} and {Max Temp} °F</dd>\n",
    "</dl>\n",
    "\"\"\"\n",
    "\n",
    "# Store the DataFrame Row.\n",
    "itinerary_info = [info_box_template.format(**row) for index, row in itinerary_df.iterrows()]\n",
    "\n",
    "\n",
    "fig = gmaps.figure(center=(20,100),zoom_level=4.3)\n",
    "\n",
    "locations = itinerary_df[[\"Lat\", \"Lng\"]]\n",
    "max_temp = itinerary_df[\"Max Temp\"]\n",
    "marker_layer = gmaps.marker_layer(locations, info_box_content=itinerary_info)\n",
    "fig.add_layer(marker_layer)\n",
    "\n",
    "# Call the figure to plot the data.\n",
    "fig"
   ]
  }
 ],
 "metadata": {
  "kernelspec": {
   "display_name": "PythonData",
   "language": "python",
   "name": "pythondata"
  },
  "language_info": {
   "codemirror_mode": {
    "name": "ipython",
    "version": 3
   },
   "file_extension": ".py",
   "mimetype": "text/x-python",
   "name": "python",
   "nbconvert_exporter": "python",
   "pygments_lexer": "ipython3",
   "version": "3.7.7"
  }
 },
 "nbformat": 4,
 "nbformat_minor": 4
}
